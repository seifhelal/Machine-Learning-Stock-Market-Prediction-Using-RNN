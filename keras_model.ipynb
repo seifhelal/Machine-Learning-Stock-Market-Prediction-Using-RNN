{
 "cells": [
  {
   "cell_type": "code",
   "execution_count": 1,
   "metadata": {},
   "outputs": [
    {
     "name": "stderr",
     "output_type": "stream",
     "text": [
      "Using TensorFlow backend.\n",
      "/home/seifhelal/anaconda3/lib/python3.6/site-packages/sklearn/cross_validation.py:41: DeprecationWarning: This module was deprecated in version 0.18 in favor of the model_selection module into which all the refactored classes and functions are moved. Also note that the interface of the new CV iterators are different from that of this module. This module will be removed in 0.20.\n",
      "  \"This module will be removed in 0.20.\", DeprecationWarning)\n"
     ]
    }
   ],
   "source": [
    "from xlrd import open_workbook\n",
    "\n",
    "import numpy as np # linear algebra\n",
    "import pandas as pd # data processing, CSV file I/O (e.g. pd.read_csv)\n",
    "\n",
    "from subprocess import check_output\n",
    "from keras.layers.core import Dense, Activation, Dropout\n",
    "from keras.layers.normalization import BatchNormalization\n",
    "from keras.layers.recurrent import LSTM\n",
    "from keras.models import Sequential\n",
    "from sklearn.cross_validation import  train_test_split\n",
    "import time\n",
    "from sklearn.preprocessing import MinMaxScaler\n",
    "from sklearn.metrics import mean_squared_error\n",
    "import matplotlib.pyplot as plt\n",
    "from numpy import newaxis\n",
    "import math\n"
   ]
  },
  {
   "cell_type": "code",
   "execution_count": 2,
   "metadata": {
    "collapsed": true
   },
   "outputs": [],
   "source": [
    "np.random.seed(6)\n",
    "data = open_workbook('data3.xls')\n",
    "for sheet in data.sheets():\n",
    "    values = []\n",
    "    for row in range(sheet.nrows):\n",
    "        col_value = []\n",
    "        for col in range(sheet.ncols):\n",
    "            value  = (sheet.cell(row,col).value)\n",
    "            try : value = float(value)\n",
    "            except : pass\n",
    "            col_value.append(value)\n",
    "        values.append(col_value)\n",
    "values=values[7:2534]\n",
    "t=[]\n",
    "for i in range (len(values)):\n",
    "    t.append(values[i][3])\n",
    "values=np.array(t)\n",
    "scaler = MinMaxScaler(feature_range=(0, 1))\n",
    "values = scaler.fit_transform(values.reshape(-1, 1))"
   ]
  },
  {
   "cell_type": "code",
   "execution_count": 3,
   "metadata": {
    "collapsed": true
   },
   "outputs": [],
   "source": [
    "def get_data(dataset, look_back=1):\n",
    "    X, Y = [], []\n",
    "    for i in range(len(dataset)-look_back-1):\n",
    "        a = dataset[i:(i+look_back)]\n",
    "        X.append(a)\n",
    "        Y.append(dataset[i + look_back])\n",
    "    return np.array(X), np.array(Y)"
   ]
  },
  {
   "cell_type": "code",
   "execution_count": 4,
   "metadata": {
    "collapsed": true
   },
   "outputs": [],
   "source": [
    "look_back=3\n",
    "X_train, Y_train = get_data(values[:2050], look_back)\n",
    "X_test, Y_test = get_data(values[2050:], look_back)    \n",
    "X_train=np.array(X_train)\n",
    "Y_train=np.array(Y_train)\n",
    "X_test=np.array(X_test)\n",
    "Y_test=np.array(Y_test) \n",
    "X_train = np.reshape(X_train, (X_train.shape[0], 1, X_train.shape[1]))\n",
    "X_test = np.reshape(X_test, (X_test.shape[0], 1, X_test.shape[1]))"
   ]
  },
  {
   "cell_type": "code",
   "execution_count": 15,
   "metadata": {
    "scrolled": true
   },
   "outputs": [
    {
     "name": "stderr",
     "output_type": "stream",
     "text": [
      "/home/seifhelal/anaconda3/lib/python3.6/site-packages/ipykernel_launcher.py:5: UserWarning: Update your `LSTM` call to the Keras 2 API: `LSTM(input_shape=(1, 3), return_sequences=False, units=30)`\n",
      "  \"\"\"\n",
      "/home/seifhelal/anaconda3/lib/python3.6/site-packages/ipykernel_launcher.py:9: UserWarning: Update your `Dense` call to the Keras 2 API: `Dense(units=1)`\n",
      "  if __name__ == '__main__':\n",
      "/home/seifhelal/anaconda3/lib/python3.6/site-packages/keras/models.py:942: UserWarning: The `nb_epoch` argument in `fit` has been renamed `epochs`.\n",
      "  warnings.warn('The `nb_epoch` argument in `fit` '\n"
     ]
    },
    {
     "name": "stdout",
     "output_type": "stream",
     "text": [
      "Train on 1886 samples, validate on 210 samples\n",
      "Epoch 1/75\n",
      "1886/1886 [==============================] - 5s 3ms/step - loss: 0.0039 - val_loss: 4.0176e-04\n",
      "Epoch 2/75\n",
      "1886/1886 [==============================] - 5s 3ms/step - loss: 1.2295e-04 - val_loss: 1.0344e-04\n",
      "Epoch 3/75\n",
      "1886/1886 [==============================] - 5s 3ms/step - loss: 1.1765e-04 - val_loss: 1.2326e-04\n",
      "Epoch 4/75\n",
      "1886/1886 [==============================] - 5s 3ms/step - loss: 1.0907e-04 - val_loss: 1.1560e-04\n",
      "Epoch 5/75\n",
      "1886/1886 [==============================] - 5s 3ms/step - loss: 1.0724e-04 - val_loss: 3.7249e-04\n",
      "Epoch 6/75\n",
      "1886/1886 [==============================] - 5s 3ms/step - loss: 1.0478e-04 - val_loss: 3.0692e-04\n",
      "Epoch 7/75\n",
      "1886/1886 [==============================] - 5s 3ms/step - loss: 1.0702e-04 - val_loss: 1.0028e-04\n",
      "Epoch 8/75\n",
      "1886/1886 [==============================] - 5s 3ms/step - loss: 1.0043e-04 - val_loss: 1.0570e-04\n",
      "Epoch 9/75\n",
      "1886/1886 [==============================] - 5s 3ms/step - loss: 9.9216e-05 - val_loss: 8.6082e-05\n",
      "Epoch 10/75\n",
      "1886/1886 [==============================] - 5s 3ms/step - loss: 9.7377e-05 - val_loss: 1.5140e-04\n",
      "Epoch 11/75\n",
      "1886/1886 [==============================] - 5s 3ms/step - loss: 9.6583e-05 - val_loss: 1.2587e-04\n",
      "Epoch 12/75\n",
      "1886/1886 [==============================] - 5s 3ms/step - loss: 9.5111e-05 - val_loss: 9.4450e-05\n",
      "Epoch 13/75\n",
      "1886/1886 [==============================] - 5s 3ms/step - loss: 9.2431e-05 - val_loss: 9.9862e-05\n",
      "Epoch 14/75\n",
      "1886/1886 [==============================] - 5s 3ms/step - loss: 9.2174e-05 - val_loss: 2.4624e-04\n",
      "Epoch 15/75\n",
      "1886/1886 [==============================] - 5s 3ms/step - loss: 9.1396e-05 - val_loss: 1.8475e-04\n",
      "Epoch 16/75\n",
      "1886/1886 [==============================] - 5s 3ms/step - loss: 8.9783e-05 - val_loss: 7.9378e-05\n",
      "Epoch 17/75\n",
      "1886/1886 [==============================] - 5s 3ms/step - loss: 9.0686e-05 - val_loss: 7.9619e-05\n",
      "Epoch 18/75\n",
      "1886/1886 [==============================] - 5s 3ms/step - loss: 8.9143e-05 - val_loss: 9.0753e-05\n",
      "Epoch 19/75\n",
      "1886/1886 [==============================] - 5s 3ms/step - loss: 9.0206e-05 - val_loss: 9.3923e-05\n",
      "Epoch 20/75\n",
      "1886/1886 [==============================] - 5s 3ms/step - loss: 8.8136e-05 - val_loss: 2.3073e-04\n",
      "Epoch 21/75\n",
      "1886/1886 [==============================] - 5s 3ms/step - loss: 8.7747e-05 - val_loss: 1.1260e-04\n",
      "Epoch 22/75\n",
      "1886/1886 [==============================] - 5s 3ms/step - loss: 8.7772e-05 - val_loss: 7.6280e-05\n",
      "Epoch 23/75\n",
      "1886/1886 [==============================] - 5s 3ms/step - loss: 8.5690e-05 - val_loss: 8.8276e-05\n",
      "Epoch 24/75\n",
      "1886/1886 [==============================] - 5s 3ms/step - loss: 8.8099e-05 - val_loss: 3.2232e-04\n",
      "Epoch 25/75\n",
      "1886/1886 [==============================] - 5s 3ms/step - loss: 8.5154e-05 - val_loss: 1.0374e-04\n",
      "Epoch 26/75\n",
      "1886/1886 [==============================] - 5s 3ms/step - loss: 8.5141e-05 - val_loss: 1.0860e-04\n",
      "Epoch 27/75\n",
      "1886/1886 [==============================] - 5s 3ms/step - loss: 8.3982e-05 - val_loss: 1.1963e-04\n",
      "Epoch 28/75\n",
      "1886/1886 [==============================] - 5s 3ms/step - loss: 8.4075e-05 - val_loss: 8.6023e-05\n",
      "Epoch 29/75\n",
      "1886/1886 [==============================] - 5s 3ms/step - loss: 8.5691e-05 - val_loss: 7.9240e-05\n",
      "Epoch 30/75\n",
      "1886/1886 [==============================] - 5s 3ms/step - loss: 8.4015e-05 - val_loss: 1.0041e-04\n",
      "Epoch 31/75\n",
      "1886/1886 [==============================] - 5s 3ms/step - loss: 8.4640e-05 - val_loss: 7.4123e-05\n",
      "Epoch 32/75\n",
      "1886/1886 [==============================] - 5s 3ms/step - loss: 8.2583e-05 - val_loss: 7.5445e-05\n",
      "Epoch 33/75\n",
      "1886/1886 [==============================] - 5s 3ms/step - loss: 8.2468e-05 - val_loss: 1.1511e-04\n",
      "Epoch 34/75\n",
      "1886/1886 [==============================] - 5s 3ms/step - loss: 8.2981e-05 - val_loss: 9.9871e-05\n",
      "Epoch 35/75\n",
      "1886/1886 [==============================] - 5s 3ms/step - loss: 8.3610e-05 - val_loss: 7.3406e-05\n",
      "Epoch 36/75\n",
      "1886/1886 [==============================] - 5s 3ms/step - loss: 7.8789e-05 - val_loss: 1.6735e-04\n",
      "Epoch 37/75\n",
      "1886/1886 [==============================] - 5s 3ms/step - loss: 8.0254e-05 - val_loss: 2.2564e-04\n",
      "Epoch 38/75\n",
      "1886/1886 [==============================] - 5s 3ms/step - loss: 8.0943e-05 - val_loss: 1.4440e-04\n",
      "Epoch 39/75\n",
      "1886/1886 [==============================] - 5s 3ms/step - loss: 7.9706e-05 - val_loss: 1.0907e-04\n",
      "Epoch 40/75\n",
      "1886/1886 [==============================] - 5s 3ms/step - loss: 7.9543e-05 - val_loss: 3.3815e-04\n",
      "Epoch 41/75\n",
      "1886/1886 [==============================] - 5s 3ms/step - loss: 8.0070e-05 - val_loss: 1.0015e-04\n",
      "Epoch 42/75\n",
      "1886/1886 [==============================] - 5s 3ms/step - loss: 8.2627e-05 - val_loss: 7.2409e-05\n",
      "Epoch 43/75\n",
      "1886/1886 [==============================] - 5s 3ms/step - loss: 7.9244e-05 - val_loss: 7.1936e-05\n",
      "Epoch 44/75\n",
      "1886/1886 [==============================] - 5s 3ms/step - loss: 8.2096e-05 - val_loss: 1.0271e-04\n",
      "Epoch 45/75\n",
      "1886/1886 [==============================] - 5s 3ms/step - loss: 8.0411e-05 - val_loss: 7.2526e-05\n",
      "Epoch 46/75\n",
      "1886/1886 [==============================] - 5s 3ms/step - loss: 8.0450e-05 - val_loss: 1.1832e-04\n",
      "Epoch 47/75\n",
      "1886/1886 [==============================] - 5s 3ms/step - loss: 8.1118e-05 - val_loss: 7.1373e-05\n",
      "Epoch 48/75\n",
      "1886/1886 [==============================] - 5s 3ms/step - loss: 8.2060e-05 - val_loss: 7.7876e-05\n",
      "Epoch 49/75\n",
      "1886/1886 [==============================] - 5s 3ms/step - loss: 8.0578e-05 - val_loss: 7.3066e-05\n",
      "Epoch 50/75\n",
      "1886/1886 [==============================] - 5s 3ms/step - loss: 8.1125e-05 - val_loss: 1.3083e-04\n",
      "Epoch 51/75\n",
      "1886/1886 [==============================] - 5s 3ms/step - loss: 8.0765e-05 - val_loss: 7.1057e-05\n",
      "Epoch 52/75\n",
      "1886/1886 [==============================] - 5s 3ms/step - loss: 8.0531e-05 - val_loss: 7.7204e-05\n",
      "Epoch 53/75\n",
      "1886/1886 [==============================] - 5s 3ms/step - loss: 7.8889e-05 - val_loss: 1.8008e-04\n",
      "Epoch 54/75\n",
      "1886/1886 [==============================] - 5s 3ms/step - loss: 8.0430e-05 - val_loss: 7.1328e-05\n",
      "Epoch 55/75\n",
      "1886/1886 [==============================] - 5s 3ms/step - loss: 8.0200e-05 - val_loss: 2.7722e-04\n",
      "Epoch 56/75\n",
      "1886/1886 [==============================] - 5s 3ms/step - loss: 8.0622e-05 - val_loss: 1.4392e-04\n",
      "Epoch 57/75\n",
      "1886/1886 [==============================] - 5s 3ms/step - loss: 7.8468e-05 - val_loss: 7.1715e-05\n",
      "Epoch 58/75\n",
      "1886/1886 [==============================] - 5s 3ms/step - loss: 8.0014e-05 - val_loss: 7.6646e-05\n",
      "Epoch 59/75\n",
      "1886/1886 [==============================] - 5s 3ms/step - loss: 7.9275e-05 - val_loss: 1.3393e-04\n",
      "Epoch 60/75\n",
      "1886/1886 [==============================] - 5s 3ms/step - loss: 7.9022e-05 - val_loss: 1.3870e-04\n",
      "Epoch 61/75\n",
      "1886/1886 [==============================] - 5s 3ms/step - loss: 7.7786e-05 - val_loss: 8.9854e-05\n",
      "Epoch 62/75\n",
      "1886/1886 [==============================] - 5s 3ms/step - loss: 7.8696e-05 - val_loss: 7.0948e-05\n",
      "Epoch 63/75\n",
      "1886/1886 [==============================] - 5s 3ms/step - loss: 7.9307e-05 - val_loss: 9.4528e-05\n",
      "Epoch 64/75\n",
      "1886/1886 [==============================] - 5s 3ms/step - loss: 7.9501e-05 - val_loss: 7.7064e-05\n",
      "Epoch 65/75\n",
      "1886/1886 [==============================] - 5s 3ms/step - loss: 7.7525e-05 - val_loss: 9.2173e-05\n",
      "Epoch 66/75\n",
      "1886/1886 [==============================] - 5s 3ms/step - loss: 7.9456e-05 - val_loss: 7.0604e-05\n",
      "Epoch 67/75\n",
      "1886/1886 [==============================] - 5s 3ms/step - loss: 7.9249e-05 - val_loss: 7.2314e-05\n",
      "Epoch 68/75\n",
      "1886/1886 [==============================] - 5s 3ms/step - loss: 8.0166e-05 - val_loss: 1.2098e-04\n",
      "Epoch 69/75\n",
      "1886/1886 [==============================] - 5s 3ms/step - loss: 8.0213e-05 - val_loss: 7.0734e-05\n",
      "Epoch 70/75\n",
      "1886/1886 [==============================] - 5s 3ms/step - loss: 7.9989e-05 - val_loss: 8.0534e-05\n",
      "Epoch 71/75\n",
      "1886/1886 [==============================] - 5s 3ms/step - loss: 7.7255e-05 - val_loss: 1.6652e-04\n",
      "Epoch 72/75\n",
      "1886/1886 [==============================] - 5s 3ms/step - loss: 7.6621e-05 - val_loss: 1.4617e-04\n",
      "Epoch 73/75\n",
      "1886/1886 [==============================] - 5s 3ms/step - loss: 7.7258e-05 - val_loss: 9.3526e-05\n",
      "Epoch 74/75\n",
      "1886/1886 [==============================] - 5s 3ms/step - loss: 7.7578e-05 - val_loss: 1.2993e-04\n",
      "Epoch 75/75\n",
      "1886/1886 [==============================] - 5s 3ms/step - loss: 7.7729e-05 - val_loss: 8.0029e-05\n"
     ]
    }
   ],
   "source": [
    "model = Sequential()\n",
    "model.add(LSTM(\n",
    "    input_shape=(1, look_back),\n",
    "    output_dim=30,\n",
    "    return_sequences=False\n",
    "))\n",
    "model.add(Dropout(2.2))\n",
    "model.add(Dense(\n",
    "    output_dim=1))\n",
    "model.add(Activation('linear'))\n",
    "start = time.time()\n",
    "model.compile('rmsprop','mse')\n",
    "history=model.fit(X_train,Y_train,batch_size=1,nb_epoch=75,validation_split=0.1)"
   ]
  },
  {
   "cell_type": "code",
   "execution_count": 16,
   "metadata": {},
   "outputs": [
    {
     "name": "stdout",
     "output_type": "stream",
     "text": [
      "Average Training Difference: 12.29 \n",
      "Average Testing Difference: 12.67 \n",
      "Train Accuracy: 87.71 RMSE\n",
      "Test Accuracy: 87.33 RMSE\n"
     ]
    }
   ],
   "source": [
    "#train_data prediction and score \n",
    "prediction_training = model.predict(X_train)\n",
    "prediction_training = scaler.inverse_transform(prediction_training)\n",
    "Y_train_inv = scaler.inverse_transform(Y_train)\n",
    "score_train=0\n",
    "for i in range (Y_train_inv.shape[0]):\n",
    "    score_train += math.sqrt(mean_squared_error(Y_train_inv[i], prediction_training[i]))\n",
    "score_train=score_train/Y_train_inv.shape[0]\n",
    "\n",
    "#test_data prediction and score \n",
    "prediction_test = model.predict(X_test)\n",
    "prediction_test = scaler.inverse_transform(prediction_test)\n",
    "Y_test_inv = scaler.inverse_transform(Y_test)\n",
    "score_test=0\n",
    "for i in range (Y_test_inv.shape[0]):\n",
    "    score_test += math.sqrt(mean_squared_error(Y_test_inv[i],prediction_test[i]))\n",
    "score_test=score_test/Y_test_inv.shape[0]\n",
    "\n",
    "print('Average Training Difference: %.2f ' % (score_train))\n",
    "print('Average Testing Difference: %.2f ' % (score_test))\n",
    "print('Train Accuracy: %.2f RMSE' % (100-score_train))\n",
    "print('Test Accuracy: %.2f RMSE' % (100-score_test))"
   ]
  },
  {
   "cell_type": "code",
   "execution_count": 17,
   "metadata": {},
   "outputs": [
    {
     "name": "stdout",
     "output_type": "stream",
     "text": [
      "day  1 :  [[ 2738.56518555]]\n",
      "day  2 :  [[ 2732.64477539]]\n",
      "day  3 :  [[ 2727.31884766]]\n",
      "day  4 :  [[ 2721.88598633]]\n",
      "day  5 :  [[ 2716.83642578]]\n",
      "Validation loss\n"
     ]
    },
    {
     "data": {
      "image/png": "[encoded data removed]",
      "text/plain": [
       "<matplotlib.figure.Figure at 0x7fcb40d17668>"
      ]
     },
     "metadata": {},
     "output_type": "display_data"
    },
    {
     "name": "stdout",
     "output_type": "stream",
     "text": [
      "Training loss\n"
     ]
    },
    {
     "data": {
      "image/png": "[encoded data removed]",
      "text/plain": [
       "<matplotlib.figure.Figure at 0x7fcb40d45898>"
      ]
     },
     "metadata": {},
     "output_type": "display_data"
    }
   ],
   "source": [
    "#get X_test\n",
    "trial=Y_test[Y_test.shape[0]-look_back:]\n",
    "\n",
    "for i in range (5):\n",
    "    previous=trial[trial.shape[0]-look_back:trial.shape[0]].reshape(1,3)\n",
    "    previous=np.reshape(previous, (previous.shape[0], 1, look_back))\n",
    "    y_prev= model.predict(previous)\n",
    "    print (\"day \",i+1,\": \",scaler.inverse_transform(y_prev)+30)\n",
    "    trial=np.append(trial,y_prev)\n",
    "    \n",
    "print (\"Validation loss\")\n",
    "plt.plot(np.array(history.history['val_loss']))\n",
    "plt.show()\n",
    "print (\"Training loss\")\n",
    "plt.plot(np.array(history.history['loss']))\n",
    "plt.show()"
   ]
  },
  {
   "cell_type": "code",
   "execution_count": null,
   "metadata": {
    "collapsed": true
   },
   "outputs": [],
   "source": []
  }
 ],
 "metadata": {
  "kernelspec": {
   "display_name": "Python 3",
   "language": "python",
   "name": "python3"
  },
  "language_info": {
   "codemirror_mode": {
    "name": "ipython",
    "version": 3
   },
   "file_extension": ".py",
   "mimetype": "text/x-python",
   "name": "python",
   "nbconvert_exporter": "python",
   "pygments_lexer": "ipython3",
   "version": "3.6.3"
  }
 },
 "nbformat": 4,
 "nbformat_minor": 2
}
